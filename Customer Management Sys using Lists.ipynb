{
 "cells": [
  {
   "cell_type": "code",
   "execution_count": null,
   "metadata": {},
   "outputs": [],
   "source": [
    "CMS ---- is considered as one of the widely used application in almost every domain.\n",
    "Today we are going to learn how to make customer management using lists in python."
   ]
  },
  {
   "cell_type": "code",
   "execution_count": null,
   "metadata": {},
   "outputs": [],
   "source": [
    "What should be included in my CMS?\n",
    "1. Add a information about customer --- name, age, phone-no , cus-id.\n",
    "2. Search a customer by taking the input from the user as customer- id.\n",
    "3. Modify the details of the customers again that depends on cusid.\n",
    "4. Delete a customer from the system by using cusid.\n",
    "5. To Exit from a system"
   ]
  },
  {
   "cell_type": "code",
   "execution_count": null,
   "metadata": {},
   "outputs": [],
   "source": [
    "yha pr jo aapka data container hoga wo lists hogi, in the starting the list are empty and then hum\n",
    "user s input lekr lists m enter karege."
   ]
  },
  {
   "cell_type": "code",
   "execution_count": null,
   "metadata": {},
   "outputs": [
    {
     "name": "stdout",
     "output_type": "stream",
     "text": [
      "------ Welcome to Sakshi's Customer management system--------\n",
      "1: Add Customer \n",
      " 2: Search Customer \n",
      "3: Delete Customer \n",
      "4: To Update customer Data\n",
      "5 : To display the details of all customers \n",
      "6 : Exit \n",
      "Please enter your choice: 1\n",
      "please enter the name of customer : ashish\n",
      "Please enter the cus id : 12\n",
      "Please enter age of the customer:  20\n",
      "Please enter a valid number: 89765467\n",
      "Values added sucessfully.. \n",
      "------ Welcome to Sakshi's Customer management system--------\n",
      "1: Add Customer \n",
      " 2: Search Customer \n",
      "3: Delete Customer \n",
      "4: To Update customer Data\n",
      "5 : To display the details of all customers \n",
      "6 : Exit \n",
      "Please enter your choice: 1\n",
      "please enter the name of customer : varun\n",
      "Please enter the cus id : 13\n",
      "Please enter age of the customer:  30\n",
      "Please enter a valid number: 5478976568\n",
      "Values added sucessfully.. \n",
      "------ Welcome to Sakshi's Customer management system--------\n",
      "1: Add Customer \n",
      " 2: Search Customer \n",
      "3: Delete Customer \n",
      "4: To Update customer Data\n",
      "5 : To display the details of all customers \n",
      "6 : Exit \n",
      "Please enter your choice: 1\n",
      "please enter the name of customer : ajay\n",
      "Please enter the cus id : 14\n",
      "Please enter age of the customer:  23\n",
      "Please enter a valid number: 547986543\n",
      "Values added sucessfully.. \n",
      "------ Welcome to Sakshi's Customer management system--------\n",
      "1: Add Customer \n",
      " 2: Search Customer \n",
      "3: Delete Customer \n",
      "4: To Update customer Data\n",
      "5 : To display the details of all customers \n",
      "6 : Exit \n",
      "Please enter your choice: 1\n",
      "please enter the name of customer : sakshi\n",
      "Please enter the cus id : 15\n",
      "Please enter age of the customer:  25\n",
      "Please enter a valid number: 876543579\n",
      "Values added sucessfully.. \n",
      "------ Welcome to Sakshi's Customer management system--------\n",
      "1: Add Customer \n",
      " 2: Search Customer \n",
      "3: Delete Customer \n",
      "4: To Update customer Data\n",
      "5 : To display the details of all customers \n",
      "6 : Exit \n",
      "Please enter your choice: 5\n",
      "Here is the compelete data of customers  \n",
      "List of names  ['ashish', 'varun', 'ajay', 'sakshi']\n",
      "List of customer ids  ['12', '13', '14', '15']\n",
      "List of ages of customers  ['20', '30', '23', '25']\n",
      "Here is the list of phone numbers  ['89765467', '5478976568', '547986543', '876543579']\n",
      "------ Welcome to Sakshi's Customer management system--------\n",
      "1: Add Customer \n",
      " 2: Search Customer \n",
      "3: Delete Customer \n",
      "4: To Update customer Data\n",
      "5 : To display the details of all customers \n",
      "6 : Exit \n"
     ]
    }
   ],
   "source": [
    "name = []\n",
    "id1 = []\n",
    "phone_no = []\n",
    "age = []\n",
    "while True:\n",
    "    print(\"------ Welcome to Sakshi's Customer management system--------\")\n",
    "    print(\"1: Add Customer \")\n",
    "    print(\" 2: Search Customer \")\n",
    "    print(\"3: Delete Customer \")\n",
    "    print(\"4: To Update customer Data\")\n",
    "    print(\"5 : To display the details of all customers \")\n",
    "    print(\"6 : Exit \")\n",
    "    choice = int(input(\"Please enter your choice: \" ))\n",
    "    if choice == 1:\n",
    "        name1 = input(\"please enter the name of customer : \")\n",
    "        id2 = input(\"Please enter the cus id : \")\n",
    "        age1 = input(\"Please enter age of the customer:  \")\n",
    "        phone_no1 = input(\"Please enter a valid number: \")\n",
    "        name.append(name1)\n",
    "        id1.append(id2)\n",
    "        phone_no.append(phone_no1)\n",
    "        age.append(age1)\n",
    "        print(\"Values added sucessfully.. \")\n",
    "    if choice == 2:\n",
    "        idd = input(\"\\n Please enter customer id to search for a customer \")\n",
    "        for i in id1:\n",
    "            if(i == idd):\n",
    "                print(\"Below is the search result \")\n",
    "                b = id1.index(idd)\n",
    "                #print(b) ==== It is printing index position.\n",
    "                print(name[b])\n",
    "                print(id1[b])\n",
    "                print(age[b])\n",
    "                print(phone_no[b])\n",
    "            else:\n",
    "                print(\"Customer id not found..\")\n",
    "    if choice == 3:\n",
    "        idd = input(\"\\n Please enter customer id to delete for a customer \")\n",
    "        for i in id1:\n",
    "            if(i == idd):\n",
    "                b = id1.index(idd)\n",
    "                name.remove(name[b])\n",
    "                id1.remove(id1[b])\n",
    "                age.remove(age[b])\n",
    "                phone_no.remove(phone_no[b])\n",
    "                print(\"Data of customer is been deleted sucessfully  \")\n",
    "            else:\n",
    "                print(\"ID not exist\")\n",
    "    if choice == 4:\n",
    "        idd = input(\"\\n Please enter customer id to update  a customer \")\n",
    "        for i in id1:\n",
    "            if(i == idd):\n",
    "                b = id1.index(idd)\n",
    "                new_name = input(\"Please enter a new name to update..\")\n",
    "                new_mob = input(\"Please enter a  new mobile number \")\n",
    "                new_age = input(\"Please enter a age of new customer\")\n",
    "                name[b] = new_name\n",
    "                phone_no[b] = new_mob\n",
    "                age[b] = new_age\n",
    "                print(\"Your customer s details is updated sucessfully \")\n",
    "                print(name)\n",
    "                print(id1)\n",
    "                print(age)\n",
    "                print(phone_no)\n",
    "            else:\n",
    "                print(\"ID not found\")\n",
    "    if choice == 5:\n",
    "        print(\"Here is the compelete data of customers  \")\n",
    "        print(\"List of names \" , name)\n",
    "        print(\"List of customer ids \" , id1)\n",
    "        print(\"List of ages of customers \" , age)\n",
    "        print(\"Here is the list of phone numbers \" , phone_no)\n",
    "    if choice == 6:\n",
    "        print(\"You are out from the system..\")\n",
    "        break\n",
    "                \n",
    "                \n",
    "                \n",
    "                \n",
    "        \n",
    "        \n",
    "         "
   ]
  },
  {
   "cell_type": "code",
   "execution_count": 4,
   "metadata": {},
   "outputs": [],
   "source": [
    "name = [\"ashish\",\"varun\",\"ajay\"]\n",
    "new_name = \"shashank\" , # yha hm user s input bhi le skte h.."
   ]
  },
  {
   "cell_type": "code",
   "execution_count": 5,
   "metadata": {},
   "outputs": [],
   "source": [
    "name[2] = new_name"
   ]
  },
  {
   "cell_type": "code",
   "execution_count": 6,
   "metadata": {},
   "outputs": [
    {
     "data": {
      "text/plain": [
       "['ashish', 'varun', 'shashank']"
      ]
     },
     "execution_count": 6,
     "metadata": {},
     "output_type": "execute_result"
    }
   ],
   "source": [
    "name"
   ]
  },
  {
   "cell_type": "code",
   "execution_count": null,
   "metadata": {},
   "outputs": [],
   "source": [
    "ab isme user s cus id lo fie uska index fine kro\n",
    "and then usi index position pr other list ko update kro.."
   ]
  }
 ],
 "metadata": {
  "kernelspec": {
   "display_name": "Python 3",
   "language": "python",
   "name": "python3"
  },
  "language_info": {
   "codemirror_mode": {
    "name": "ipython",
    "version": 3
   },
   "file_extension": ".py",
   "mimetype": "text/x-python",
   "name": "python",
   "nbconvert_exporter": "python",
   "pygments_lexer": "ipython3",
   "version": "3.7.1"
  }
 },
 "nbformat": 4,
 "nbformat_minor": 2
}
